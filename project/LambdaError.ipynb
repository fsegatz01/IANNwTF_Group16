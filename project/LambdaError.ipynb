{
  "nbformat": 4,
  "nbformat_minor": 0,
  "metadata": {
    "colab": {
      "provenance": []
    },
    "kernelspec": {
      "name": "python3",
      "display_name": "Python 3"
    },
    "language_info": {
      "name": "python"
    }
  },
  "cells": [
    {
      "cell_type": "code",
      "execution_count": 1,
      "metadata": {
        "colab": {
          "base_uri": "https://localhost:8080/"
        },
        "id": "6f2AtGJed0gZ",
        "outputId": "0fd66510-1034-4de0-b8ce-96ace8f83ba8"
      },
      "outputs": [
        {
          "output_type": "stream",
          "name": "stdout",
          "text": [
            "Looking in indexes: https://pypi.org/simple, https://us-python.pkg.dev/colab-wheels/public/simple/\n",
            "Requirement already satisfied: nilearn==0.9.2 in /usr/local/lib/python3.9/dist-packages (0.9.2)\n",
            "Requirement already satisfied: lxml in /usr/local/lib/python3.9/dist-packages (from nilearn==0.9.2) (4.9.2)\n",
            "Requirement already satisfied: scikit-learn>=0.22 in /usr/local/lib/python3.9/dist-packages (from nilearn==0.9.2) (1.2.2)\n",
            "Requirement already satisfied: numpy>=1.18 in /usr/local/lib/python3.9/dist-packages (from nilearn==0.9.2) (1.22.4)\n",
            "Requirement already satisfied: pandas>=1.0 in /usr/local/lib/python3.9/dist-packages (from nilearn==0.9.2) (1.4.4)\n",
            "Requirement already satisfied: requests>=2 in /usr/local/lib/python3.9/dist-packages (from nilearn==0.9.2) (2.27.1)\n",
            "Requirement already satisfied: nibabel>=3.0.0 in /usr/local/lib/python3.9/dist-packages (from nilearn==0.9.2) (3.0.2)\n",
            "Requirement already satisfied: joblib>=0.15 in /usr/local/lib/python3.9/dist-packages (from nilearn==0.9.2) (1.1.1)\n",
            "Requirement already satisfied: scipy>=1.5 in /usr/local/lib/python3.9/dist-packages (from nilearn==0.9.2) (1.10.1)\n",
            "Requirement already satisfied: pytz>=2020.1 in /usr/local/lib/python3.9/dist-packages (from pandas>=1.0->nilearn==0.9.2) (2022.7.1)\n",
            "Requirement already satisfied: python-dateutil>=2.8.1 in /usr/local/lib/python3.9/dist-packages (from pandas>=1.0->nilearn==0.9.2) (2.8.2)\n",
            "Requirement already satisfied: certifi>=2017.4.17 in /usr/local/lib/python3.9/dist-packages (from requests>=2->nilearn==0.9.2) (2022.12.7)\n",
            "Requirement already satisfied: idna<4,>=2.5 in /usr/local/lib/python3.9/dist-packages (from requests>=2->nilearn==0.9.2) (3.4)\n",
            "Requirement already satisfied: urllib3<1.27,>=1.21.1 in /usr/local/lib/python3.9/dist-packages (from requests>=2->nilearn==0.9.2) (1.26.15)\n",
            "Requirement already satisfied: charset-normalizer~=2.0.0 in /usr/local/lib/python3.9/dist-packages (from requests>=2->nilearn==0.9.2) (2.0.12)\n",
            "Requirement already satisfied: threadpoolctl>=2.0.0 in /usr/local/lib/python3.9/dist-packages (from scikit-learn>=0.22->nilearn==0.9.2) (3.1.0)\n",
            "Requirement already satisfied: six>=1.5 in /usr/local/lib/python3.9/dist-packages (from python-dateutil>=2.8.1->pandas>=1.0->nilearn==0.9.2) (1.16.0)\n"
          ]
        }
      ],
      "source": [
        "!pip install nilearn==0.9.2"
      ]
    },
    {
      "cell_type": "code",
      "source": [
        "import os\n",
        "import numpy as np\n",
        "import matplotlib\n",
        "from matplotlib import pyplot as plt\n",
        "import tensorflow_datasets as tfds\n",
        "from keras import datasets\n",
        "import tensorflow as tf\n",
        "import matplotlib.pyplot as plt\n",
        "import numpy as np\n",
        "\n",
        "%load_ext tensorboard"
      ],
      "metadata": {
        "id": "zOeSl6kXeBdb"
      },
      "execution_count": 2,
      "outputs": []
    },
    {
      "cell_type": "code",
      "source": [
        "# load the dataset\n",
        "(x_train, y_train), (x_test, y_test) = datasets.cifar100.load_data()"
      ],
      "metadata": {
        "id": "TEKcuex1eR-r"
      },
      "execution_count": 3,
      "outputs": []
    },
    {
      "cell_type": "code",
      "source": [
        "############### PREPROCESS ###############\n",
        "\n",
        "def preprocess(data, dataset, batch_size):\n",
        "\n",
        "  # if dataset == \"eco_data\":\n",
        "    # downsample(train_data, test_data)\n",
        "\n",
        "  data = tf.data.Dataset.from_tensor_slices((data))\n",
        "  \n",
        "  data = data.map(lambda img, target: (tf.cast(img, tf.float32), target))\n",
        "  #sloppy input normalization, just bringing image values from range [0, 255] to [-1, 1]\n",
        "  data = data.map(lambda img, target: ((img/128.)-1., target))\n",
        "  data = data.map(lambda img, target: (img, tf.one_hot(target, depth=10)))\n",
        "\n",
        "  # cache shuffle, batch, prefetch\n",
        "  data = data.cache()\n",
        "  data = data.shuffle(1000)\n",
        "  data = data.batch(32)\n",
        "  data = data.prefetch(20)\n",
        "  return data\n"
      ],
      "metadata": {
        "id": "2fZYSbkReU7K"
      },
      "execution_count": 4,
      "outputs": []
    },
    {
      "cell_type": "code",
      "source": [
        "training = preprocess((x_train, y_train), 'cifar100', 32)\n",
        "test = preprocess((x_test, y_test), 'cifar100', 32)"
      ],
      "metadata": {
        "colab": {
          "base_uri": "https://localhost:8080/"
        },
        "id": "3Zqm6Y2hel9I",
        "outputId": "ae410a50-f31c-43a1-908b-fe2aae33664e"
      },
      "execution_count": 5,
      "outputs": [
        {
          "output_type": "stream",
          "name": "stderr",
          "text": [
            "WARNING:tensorflow:From /usr/local/lib/python3.9/dist-packages/tensorflow/python/autograph/pyct/static_analysis/liveness.py:83: Analyzer.lamba_check (from tensorflow.python.autograph.pyct.static_analysis.liveness) is deprecated and will be removed after 2023-09-23.\n",
            "Instructions for updating:\n",
            "Lambda fuctions will be no more assumed to be used in the statement where they are used, or at least in the same block. https://github.com/tensorflow/tensorflow/issues/56089\n"
          ]
        }
      ]
    }
  ]
}