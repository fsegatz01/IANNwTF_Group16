{
  "cells": [
    {
      "cell_type": "code",
      "execution_count": 2,
      "metadata": {
        "colab": {
          "base_uri": "https://localhost:8080/"
        },
        "id": "oUZ8J9GymquS",
        "outputId": "159a5d44-2046-498c-9431-d846114bf48e"
      },
      "outputs": [
        {
          "output_type": "stream",
          "name": "stdout",
          "text": [
            "Looking in indexes: https://pypi.org/simple, https://us-python.pkg.dev/colab-wheels/public/simple/\n",
            "Requirement already satisfied: nilearn==0.9.2 in /usr/local/lib/python3.9/dist-packages (0.9.2)\n",
            "Requirement already satisfied: scikit-learn>=0.22 in /usr/local/lib/python3.9/dist-packages (from nilearn==0.9.2) (1.2.2)\n",
            "Requirement already satisfied: pandas>=1.0 in /usr/local/lib/python3.9/dist-packages (from nilearn==0.9.2) (1.4.4)\n",
            "Requirement already satisfied: requests>=2 in /usr/local/lib/python3.9/dist-packages (from nilearn==0.9.2) (2.27.1)\n",
            "Requirement already satisfied: nibabel>=3.0.0 in /usr/local/lib/python3.9/dist-packages (from nilearn==0.9.2) (3.0.2)\n",
            "Requirement already satisfied: numpy>=1.18 in /usr/local/lib/python3.9/dist-packages (from nilearn==0.9.2) (1.22.4)\n",
            "Requirement already satisfied: joblib>=0.15 in /usr/local/lib/python3.9/dist-packages (from nilearn==0.9.2) (1.1.1)\n",
            "Requirement already satisfied: lxml in /usr/local/lib/python3.9/dist-packages (from nilearn==0.9.2) (4.9.2)\n",
            "Requirement already satisfied: scipy>=1.5 in /usr/local/lib/python3.9/dist-packages (from nilearn==0.9.2) (1.10.1)\n",
            "Requirement already satisfied: pytz>=2020.1 in /usr/local/lib/python3.9/dist-packages (from pandas>=1.0->nilearn==0.9.2) (2022.7.1)\n",
            "Requirement already satisfied: python-dateutil>=2.8.1 in /usr/local/lib/python3.9/dist-packages (from pandas>=1.0->nilearn==0.9.2) (2.8.2)\n",
            "Requirement already satisfied: urllib3<1.27,>=1.21.1 in /usr/local/lib/python3.9/dist-packages (from requests>=2->nilearn==0.9.2) (1.26.15)\n",
            "Requirement already satisfied: certifi>=2017.4.17 in /usr/local/lib/python3.9/dist-packages (from requests>=2->nilearn==0.9.2) (2022.12.7)\n",
            "Requirement already satisfied: charset-normalizer~=2.0.0 in /usr/local/lib/python3.9/dist-packages (from requests>=2->nilearn==0.9.2) (2.0.12)\n",
            "Requirement already satisfied: idna<4,>=2.5 in /usr/local/lib/python3.9/dist-packages (from requests>=2->nilearn==0.9.2) (3.4)\n",
            "Requirement already satisfied: threadpoolctl>=2.0.0 in /usr/local/lib/python3.9/dist-packages (from scikit-learn>=0.22->nilearn==0.9.2) (3.1.0)\n",
            "Requirement already satisfied: six>=1.5 in /usr/local/lib/python3.9/dist-packages (from python-dateutil>=2.8.1->pandas>=1.0->nilearn==0.9.2) (1.16.0)\n"
          ]
        }
      ],
      "source": [
        "!pip install nilearn==0.9.2"
      ]
    },
    {
      "cell_type": "code",
      "execution_count": 3,
      "metadata": {
        "id": "dOXA4UkYmszq"
      },
      "outputs": [],
      "source": [
        "import os\n",
        "import numpy as np\n",
        "from pathlib import Path\n",
        "from PIL import Image\n",
        "from tqdm import tqdm\n",
        "import matplotlib\n",
        "from matplotlib import pyplot as plt\n",
        "from nilearn import datasets\n",
        "from nilearn import plotting\n",
        "import torch\n",
        "from torch.utils.data import DataLoader, Dataset\n",
        "from torchvision.models.feature_extraction import create_feature_extractor, get_graph_node_names\n",
        "from torchvision import transforms\n",
        "from sklearn.decomposition import IncrementalPCA\n",
        "from sklearn.linear_model import LinearRegression\n",
        "from scipy.stats import pearsonr as corr\n",
        "\n",
        "import tensorflow_datasets as tfds\n",
        "import tensorflow as tf"
      ]
    },
    {
      "cell_type": "code",
      "execution_count": 4,
      "metadata": {
        "id": "YJxPpmsdiokI"
      },
      "outputs": [],
      "source": [
        "import tensorflow_datasets as tfds\n",
        "import tensorflow as tf\n",
        "\n",
        "from keras import datasets, Sequential\n",
        "from keras.layers import Conv2D, Dense, MaxPooling2D, Flatten\n",
        "import matplotlib.pyplot as plt\n",
        "import numpy as np\n",
        "from sklearn.metrics import confusion_matrix"
      ]
    },
    {
      "cell_type": "code",
      "execution_count": 5,
      "metadata": {
        "id": "TbP4uZgLS6Of"
      },
      "outputs": [],
      "source": [
        "from tensorflow.keras.layers.experimental.preprocessing import Resizing"
      ]
    },
    {
      "cell_type": "markdown",
      "metadata": {
        "id": "PldeG3Cbm4b2"
      },
      "source": [
        "# Load data"
      ]
    },
    {
      "cell_type": "markdown",
      "metadata": {
        "id": "1VWj12dmhRrt"
      },
      "source": [
        "Loading the NSD images from colab and storing them in a npy file"
      ]
    },
    {
      "cell_type": "code",
      "execution_count": 6,
      "metadata": {
        "colab": {
          "base_uri": "https://localhost:8080/"
        },
        "id": "x4BCrb_4mz6V",
        "outputId": "126f19cb-a076-4b68-d664-a4fe65d4044d"
      },
      "outputs": [
        {
          "output_type": "stream",
          "name": "stdout",
          "text": [
            "Mounted at /content/drive\n"
          ]
        }
      ],
      "source": [
        "from google.colab import drive\n",
        "\n",
        "drive.mount('/content/drive', force_remount=True)\n",
        "os.chdir (\"drive/MyDrive\")\n",
        "\n",
        "data_dir = '/content/drive/MyDrive/algonauts_2023_tutorial_data' \n",
        "parent_submission_dir = '/content/drive/MyDrive/algonauts_2023_challenge_submission' "
      ]
    },
    {
      "cell_type": "code",
      "execution_count": 13,
      "metadata": {
        "colab": {
          "base_uri": "https://localhost:8080/",
          "height": 140
        },
        "id": "7mZcjek1qexG",
        "outputId": "2f2c1c48-074b-4f0f-c4fa-0efa11fcffaf"
      },
      "outputs": [
        {
          "output_type": "execute_result",
          "data": {
            "text/plain": [
              "'\\n############################################# NICHT MEHR AUSFÜHREN ############################################\\n###############################################################################################################\\nimg_list = list()\\nresize_layer = Resizing(32, 32)\\n\\nfor i in range(1,9):\\n\\n  PATH = \"/content/drive/MyDrive/algonauts_2023_tutorial_data/subj0{}/training_split/training_images\".format(i)\\n\\n  with os.scandir(PATH) as f:\\n      for entry in f:\\n          if not entry.name.startswith(\\'.\\') and entry.is_file():\\n              img = Image.open(os.path.join(PATH, entry.name))\\n\\n              # Apply the Resizing layer to the datasets\\n              img = resize_layer(img)\\n              \\n              img = tf.convert_to_tensor(img, dtype=tf.float32)\\n              img_list.append(img)\\n\\n  np.save(\\'/content/drive/MyDrive/FinalProject/NSD_Data/nsd_train-images_subj0{}\\'.format(i), img_list)\\n  print(\\'/content/drive/MyDrive/FinalProject/NSD_Data/nsd_train-images_subj0{}\\'.format(i))\\n  img_list.clear()\\n'"
            ],
            "application/vnd.google.colaboratory.intrinsic+json": {
              "type": "string"
            }
          },
          "metadata": {},
          "execution_count": 13
        }
      ],
      "source": [
        "### SAVE TRAIN IMAGES AS TENSORS ###\n",
        "'''\n",
        "############################################# NICHT MEHR AUSFÜHREN ############################################\n",
        "###############################################################################################################\n",
        "img_list = list()\n",
        "resize_layer = Resizing(32, 32)\n",
        "\n",
        "for i in range(1,9):\n",
        "\n",
        "  PATH = \"/content/drive/MyDrive/algonauts_2023_tutorial_data/subj0{}/training_split/training_images\".format(i)\n",
        "\n",
        "  with os.scandir(PATH) as f:\n",
        "      for entry in f:\n",
        "          if not entry.name.startswith('.') and entry.is_file():\n",
        "              img = Image.open(os.path.join(PATH, entry.name))\n",
        "\n",
        "              # Apply the Resizing layer to the datasets\n",
        "              img = resize_layer(img)\n",
        "              \n",
        "              img = tf.convert_to_tensor(img, dtype=tf.float32)\n",
        "              img_list.append(img)\n",
        "\n",
        "  np.save('/content/drive/MyDrive/FinalProject/NSD_Data/nsd_train-images_subj0{}'.format(i), img_list)\n",
        "  print('/content/drive/MyDrive/FinalProject/NSD_Data/nsd_train-images_subj0{}'.format(i))\n",
        "  img_list.clear()\n",
        "'''"
      ]
    },
    {
      "cell_type": "code",
      "source": [
        "'''\n",
        "### PUT ALL TRAIN IMAGES FROM DIFFERENT SUBJ TOGETHER ###\n",
        "nsd_train_images = np.load('/content/drive/MyDrive/FinalProject/NSD_Data/nsd_train-images_subj01.npy')\n",
        "\n",
        "for i in range(2,9):\n",
        "  nsd_train_images = np.concatenate((nsd_train_images, np.load('/content/drive/MyDrive/FinalProject/NSD_Data/nsd_train-images_subj0{}.npy'.format(i))), axis=0)\n",
        "\n",
        "print(len(nsd_train_images))\n",
        "'''"
      ],
      "metadata": {
        "colab": {
          "base_uri": "https://localhost:8080/",
          "height": 70
        },
        "id": "cBOMLhAdROSJ",
        "outputId": "edd8cfc2-ea38-4517-de53-dc9e111cbfe7"
      },
      "execution_count": 14,
      "outputs": [
        {
          "output_type": "execute_result",
          "data": {
            "text/plain": [
              "\"\\n### PUT ALL TRAIN IMAGES FROM DIFFERENT SUBJ TOGETHER ###\\nnsd_train_images = np.load('/content/drive/MyDrive/FinalProject/NSD_Data/nsd_train-images_subj01.npy')\\n\\nfor i in range(2,9):\\n  nsd_train_images = np.concatenate((nsd_train_images, np.load('/content/drive/MyDrive/FinalProject/NSD_Data/nsd_train-images_subj0{}.npy'.format(i))), axis=0)\\n\\nprint(len(nsd_train_images))\\n\""
            ],
            "application/vnd.google.colaboratory.intrinsic+json": {
              "type": "string"
            }
          },
          "metadata": {},
          "execution_count": 14
        }
      ]
    },
    {
      "cell_type": "code",
      "source": [
        "### SAVE TEST IMAGES AS TENSORS ###\n",
        "'''\n",
        "########################### NICHT MEHR AUSFÜHREN ##############################\n",
        "img_list = list()\n",
        "resize_layer = Resizing(32, 32)\n",
        "\n",
        "for i in range(1,9):\n",
        "\n",
        "  PATH = \"/content/drive/MyDrive/algonauts_2023_tutorial_data/subj0{}/test_split/test_images\".format(i)\n",
        "\n",
        "  with os.scandir(PATH) as f:\n",
        "      for entry in f:\n",
        "          if not entry.name.startswith('.') and entry.is_file():\n",
        "              img = Image.open(os.path.join(PATH, entry.name))\n",
        "\n",
        "              # Apply the Resizing layer to the datasets\n",
        "              img = resize_layer(img)\n",
        "              \n",
        "              img = tf.convert_to_tensor(img, dtype=tf.float32)\n",
        "              img_list.append(img)\n",
        "\n",
        "  np.save('/content/drive/MyDrive/FinalProject/NSD_Data/nsd_test-images_subj0{}'.format(i), img_list)\n",
        "  print('/content/drive/MyDrive/FinalProject/NSD_Data/nsd_test-images_subj0{}'.format(i))\n",
        "  img_list.clear()\n",
        "'''"
      ],
      "metadata": {
        "colab": {
          "base_uri": "https://localhost:8080/",
          "height": 122
        },
        "id": "zanVMg2z3MJb",
        "outputId": "764f80d0-1baa-42b4-e68a-fb0713d313de"
      },
      "execution_count": 15,
      "outputs": [
        {
          "output_type": "execute_result",
          "data": {
            "text/plain": [
              "'\\n########################### NICHT MEHR AUSFÜHREN ##############################\\nimg_list = list()\\nresize_layer = Resizing(32, 32)\\n\\nfor i in range(1,9):\\n\\n  PATH = \"/content/drive/MyDrive/algonauts_2023_tutorial_data/subj0{}/test_split/test_images\".format(i)\\n\\n  with os.scandir(PATH) as f:\\n      for entry in f:\\n          if not entry.name.startswith(\\'.\\') and entry.is_file():\\n              img = Image.open(os.path.join(PATH, entry.name))\\n\\n              # Apply the Resizing layer to the datasets\\n              img = resize_layer(img)\\n              \\n              img = tf.convert_to_tensor(img, dtype=tf.float32)\\n              img_list.append(img)\\n\\n  np.save(\\'/content/drive/MyDrive/FinalProject/NSD_Data/nsd_test-images_subj0{}\\'.format(i), img_list)\\n  print(\\'/content/drive/MyDrive/FinalProject/NSD_Data/nsd_test-images_subj0{}\\'.format(i))\\n  img_list.clear()\\n'"
            ],
            "application/vnd.google.colaboratory.intrinsic+json": {
              "type": "string"
            }
          },
          "metadata": {},
          "execution_count": 15
        }
      ]
    },
    {
      "cell_type": "code",
      "source": [
        "'''\n",
        "### PUT ALL TEST IMAGES FROM DIFFERENT SUBJ TOGETHER ###\n",
        "nsd_test_images = np.load('/content/drive/MyDrive/FinalProject/NSD_Data/nsd_test-images_subj01.npy')\n",
        "\n",
        "for i in range(2,9):\n",
        "  nsd_test_images = np.concatenate((nsd_test_images, np.load('/content/drive/MyDrive/FinalProject/NSD_Data/nsd_test-images_subj0{}.npy'.format(i))), axis=0)\n",
        "\n",
        "'''"
      ],
      "metadata": {
        "colab": {
          "base_uri": "https://localhost:8080/",
          "height": 70
        },
        "id": "0r7r-kEDZQts",
        "outputId": "8cd4beba-d60d-4cc8-9713-12330443d38f"
      },
      "execution_count": 16,
      "outputs": [
        {
          "output_type": "execute_result",
          "data": {
            "text/plain": [
              "\"\\n### PUT ALL TEST IMAGES FROM DIFFERENT SUBJ TOGETHER ###\\nnsd_test_images = np.load('/content/drive/MyDrive/FinalProject/NSD_Data/nsd_test-images_subj01.npy')\\n\\nfor i in range(2,9):\\n  nsd_test_images = np.concatenate((nsd_test_images, np.load('/content/drive/MyDrive/FinalProject/NSD_Data/nsd_test-images_subj0{}.npy'.format(i))), axis=0)\\n\\n\""
            ],
            "application/vnd.google.colaboratory.intrinsic+json": {
              "type": "string"
            }
          },
          "metadata": {},
          "execution_count": 16
        }
      ]
    },
    {
      "cell_type": "code",
      "source": [
        "'''\n",
        "### LOAD FMRI RESPONSES ###\n",
        "nsd_train_lh = np.load('/content/drive/MyDrive/algonauts_2023_tutorial_data/subj0{}/training_split/training_fmri/lh_training_fmri.npy'.format(1))\n",
        "nsd_train_rh = np.load('/content/drive/MyDrive/algonauts_2023_tutorial_data/subj0{}/training_split/training_fmri/rh_training_fmri.npy'.format(1))\n",
        "\n",
        "for i in range(2,9):\n",
        "\n",
        "  nsd_train_lh = np.concatenate((nsd_train_lh, np.load('/content/drive/MyDrive/algonauts_2023_tutorial_data/subj0{}/training_split/training_fmri/lh_training_fmri.npy'.format(i))), axis=0)\n",
        "  #nsd_train_rh = np.concatenate((nsd_train_rh, np.load('/content/drive/MyDrive/algonauts_2023_tutorial_data/subj0{}/training_split/training_fmri/rh_training_fmri.npy'.format(i))), axis=0)\n",
        "\n",
        "print(len(nsd_train_lh))\n",
        "print(len(nsd_train_rh))\n",
        "'''"
      ],
      "metadata": {
        "colab": {
          "base_uri": "https://localhost:8080/",
          "height": 122
        },
        "id": "VzwrOR_aNgYH",
        "outputId": "11fb5733-0dbb-4c8b-cbc8-61df22f2e56c"
      },
      "execution_count": 17,
      "outputs": [
        {
          "output_type": "execute_result",
          "data": {
            "text/plain": [
              "\"\\n### LOAD FMRI RESPONSES ###\\nnsd_train_lh = np.load('/content/drive/MyDrive/algonauts_2023_tutorial_data/subj0{}/training_split/training_fmri/lh_training_fmri.npy'.format(1))\\nnsd_train_rh = np.load('/content/drive/MyDrive/algonauts_2023_tutorial_data/subj0{}/training_split/training_fmri/rh_training_fmri.npy'.format(1))\\n\\nfor i in range(2,9):\\n\\n  nsd_train_lh = np.concatenate((nsd_train_lh, np.load('/content/drive/MyDrive/algonauts_2023_tutorial_data/subj0{}/training_split/training_fmri/lh_training_fmri.npy'.format(i))), axis=0)\\n  #nsd_train_rh = np.concatenate((nsd_train_rh, np.load('/content/drive/MyDrive/algonauts_2023_tutorial_data/subj0{}/training_split/training_fmri/rh_training_fmri.npy'.format(i))), axis=0)\\n\\nprint(len(nsd_train_lh))\\nprint(len(nsd_train_rh))\\n\""
            ],
            "application/vnd.google.colaboratory.intrinsic+json": {
              "type": "string"
            }
          },
          "metadata": {},
          "execution_count": 17
        }
      ]
    },
    {
      "cell_type": "code",
      "execution_count": 7,
      "metadata": {
        "id": "49giC6atztqp"
      },
      "outputs": [],
      "source": [
        "### LOAD FMRI RESPONSES ###\n",
        "\n",
        "\n",
        "\n",
        "subj01_train_lh = np.load(os.path.join(os.path.join('/content/drive/MyDrive/algonauts_2023_tutorial_data/subj01', 'training_split', 'training_fmri'), 'lh_training_fmri.npy'))\n",
        "subj01_train_rh = np.load(os.path.join(os.path.join('/content/drive/MyDrive/algonauts_2023_tutorial_data/subj01', 'training_split', 'training_fmri'), 'rh_training_fmri.npy'))"
      ]
    },
    {
      "cell_type": "markdown",
      "metadata": {
        "id": "BIIKyRG6h0-_"
      },
      "source": [
        "# Preprocess"
      ]
    },
    {
      "cell_type": "code",
      "execution_count": 8,
      "metadata": {
        "id": "NdfjfRkBRaQJ"
      },
      "outputs": [],
      "source": [
        "############# PREPROCESS ################\n",
        "\n",
        "def preprocess(x_train_data):\n",
        "\n",
        "    # convert the 2d array output labels into 1D array\n",
        "    x_train_data = x_train_data.astype('float32')\n",
        "\n",
        "    # normalizing the training and testing data\n",
        "    x_train_data /= 255.0\n",
        "    \n",
        "    return x_train_data\n",
        "\n",
        "\n",
        "nsd_train_images = preprocess(np.load('/content/drive/MyDrive/FinalProject/NSD_Data/nsd_train-images_subj01.npy'))\n",
        "\n",
        "#nsd_test_images = preprocess(nsd_test_images_allSubj)"
      ]
    },
    {
      "cell_type": "code",
      "source": [
        "### CREATE DATASETS ###\n",
        "'''\n",
        "train_dataset_lh = tf.data.Dataset.from_tensor_slices((nsd_train_images, nsd_fmri_lh_allSubj))\n",
        "train_dataset_rh = tf.data.Dataset.from_tensor_slices((nsd_train_images, nsd_fmri_rh_allSubj))\n",
        "'''"
      ],
      "metadata": {
        "colab": {
          "base_uri": "https://localhost:8080/",
          "height": 53
        },
        "id": "tpm3fMYiIxm1",
        "outputId": "7b4b8c8b-6154-41c4-939f-555e191ce408"
      },
      "execution_count": 20,
      "outputs": [
        {
          "output_type": "execute_result",
          "data": {
            "text/plain": [
              "'\\ntrain_dataset_lh = tf.data.Dataset.from_tensor_slices((nsd_train_images, nsd_fmri_lh_allSubj))\\ntrain_dataset_rh = tf.data.Dataset.from_tensor_slices((nsd_train_images, nsd_fmri_rh_allSubj))\\n'"
            ],
            "application/vnd.google.colaboratory.intrinsic+json": {
              "type": "string"
            }
          },
          "metadata": {},
          "execution_count": 20
        }
      ]
    },
    {
      "cell_type": "markdown",
      "metadata": {
        "id": "QAhuxXY1iW6J"
      },
      "source": [
        "# Visualization"
      ]
    },
    {
      "cell_type": "code",
      "execution_count": 9,
      "metadata": {
        "colab": {
          "base_uri": "https://localhost:8080/",
          "height": 580
        },
        "id": "1UAAOiLYiZ2Q",
        "outputId": "254596ba-2910-4f12-8c5b-7e366ba86e54"
      },
      "outputs": [
        {
          "output_type": "display_data",
          "data": {
            "text/plain": [
              "<Figure size 576x576 with 6 Axes>"
            ],
            "image/png": "[encoded data removed]"
          },
          "metadata": {
            "needs_background": "light"
          }
        }
      ],
      "source": [
        "def visualize(images):\n",
        "    fig, axes = plt.subplots(3,2, figsize=(8,8))\n",
        "    fig.tight_layout()\n",
        "\n",
        "    for i, ax in enumerate(axes.flatten()):\n",
        "        ax.imshow(images[i])\n",
        "        ax.set_title('Training image: ' + str(i+1))\n",
        "        ax.axis(\"off\")\n",
        "\n",
        "visualize(nsd_train_images)"
      ]
    },
    {
      "cell_type": "markdown",
      "metadata": {
        "id": "xOS13c-kaBHD"
      },
      "source": [
        "# Model"
      ]
    },
    {
      "cell_type": "code",
      "execution_count": 10,
      "metadata": {
        "id": "miVR7FsGZ-DM"
      },
      "outputs": [],
      "source": [
        "############# MODEL ####################\n",
        "\n",
        "def create_CNN_model():\n",
        "\n",
        "    model = Sequential()\n",
        "    model.add(Conv2D(input_shape=(32, 32, 3), kernel_size=(2, 2), padding='same', strides=(2, 2), filters=32))\n",
        "    model.add(Conv2D(input_shape=(32, 32, 3), kernel_size=(2, 2), padding='same', strides=(2, 2), filters=32))\n",
        "    #model.add(Conv2D(input_shape=(32, 32, 3), kernel_size=(2, 2), padding='same', strides=(2, 2), filters=32))\n",
        "    model.add(MaxPooling2D(pool_size=(2, 2), strides=(1, 1), padding='same'))\n",
        "    model.add(Conv2D(kernel_size=(2, 2), padding='same', strides=(2, 2), filters=64))\n",
        "    model.add(Conv2D(kernel_size=(2, 2), padding='same', strides=(2, 2), filters=64))\n",
        "    #model.add(Conv2D(kernel_size=(2, 2), padding='same', strides=(2, 2), filters=64))\n",
        "    model.add(MaxPooling2D(pool_size=(2, 2), strides=(1, 1), padding='same'))\n",
        "    model.add(Flatten())\n",
        "    model.add(Dense(256, activation='relu'))\n",
        "    model.add(Dense(128, activation='relu'))\n",
        "    model.add(Dense(100, activation='softmax'))\n",
        "\n",
        "\n",
        "    model.compile(loss='sparse_categorical_crossentropy',\n",
        "                optimizer=tf.keras.optimizers.Adam(learning_rate=0.001),\n",
        "                metrics=['accuracy'])\n",
        "\n",
        "    return model\n"
      ]
    },
    {
      "cell_type": "code",
      "source": [
        "########### LOAD OLD WEIGHTS #########\n",
        "\n",
        "# Create a new model instance\n",
        "new_model = create_CNN_model()\n",
        "\n",
        "# Restore the weights\n",
        "new_model.load_weights('/content/drive/MyDrive/checkpoints/my_new_checkpoint')\n",
        "\n",
        "# Evaluate the model\n",
        "loss, acc = new_model.evaluate(nsd_train_images, np.zeros(len(nsd_train_images)))\n",
        "print(\"test accuracy: \", acc)\n"
      ],
      "metadata": {
        "colab": {
          "base_uri": "https://localhost:8080/"
        },
        "id": "Lcv-i_Z741MG",
        "outputId": "85c7f8ae-5094-425f-dafc-4f1b3079f4ae"
      },
      "execution_count": 11,
      "outputs": [
        {
          "output_type": "stream",
          "name": "stdout",
          "text": [
            "308/308 [==============================] - 3s 7ms/step - loss: 14.0464 - accuracy: 1.0162e-04\n",
            "test accuracy:  0.00010161568934563547\n"
          ]
        }
      ]
    },
    {
      "cell_type": "markdown",
      "metadata": {
        "id": "-Yrn9x1QOS59"
      },
      "source": [
        "# Lin Reg\n"
      ]
    },
    {
      "cell_type": "code",
      "source": [
        "from keras import backend as K\n",
        "# model = cnn_model\n",
        "# with a Sequential model\n",
        "\n",
        "def output_to_input(model, layer_number, data):\n",
        "      \n",
        "    get_layer_output = K.function([model.layers[0].input],\n",
        "                                      [model.layers[layer_number].output])\n",
        "    layer_output = get_layer_output([data])[0]\n",
        "    hidden_layer_outputs_flat = tf.keras.layers.Flatten()(layer_output)\n",
        "\n",
        "    return hidden_layer_outputs_flat\n",
        "\n",
        "\n",
        "\n",
        "\n",
        "\n",
        "subj01_train_lh = np.load(os.path.join(os.path.join('/content/drive/MyDrive/algonauts_2023_tutorial_data/subj01', 'training_split', 'training_fmri'), 'lh_training_fmri.npy'))\n",
        "subj01_train_rh = np.load(os.path.join(os.path.join('/content/drive/MyDrive/algonauts_2023_tutorial_data/subj01', 'training_split', 'training_fmri'), 'rh_training_fmri.npy'))\n",
        "\n",
        "subj06_train_lh = np.load(os.path.join(os.path.join('/content/drive/MyDrive/algonauts_2023_tutorial_data/subj06', 'training_split', 'training_fmri'), 'lh_training_fmri.npy'))\n",
        "subj06_train_rh = np.load(os.path.join(os.path.join('/content/drive/MyDrive/algonauts_2023_tutorial_data/subj06', 'training_split', 'training_fmri'), 'rh_training_fmri.npy'))\n",
        "\n",
        "\n",
        "\n",
        "nsd_train_images = preprocess(np.load('/content/drive/MyDrive/FinalProject/NSD_Data/nsd_train-images_subj01.npy'))\n",
        "nsd_train_images6 = preprocess(np.load('/content/drive/MyDrive/FinalProject/NSD_Data/nsd_train-images_subj06.npy'))\n",
        "\n",
        "features = output_to_input(new_model, 3, nsd_train_images)\n",
        "print(features.shape)\n",
        "print(type(features))\n",
        "#print(features)\n",
        "\n",
        "features6 = output_to_input(new_model, 3, nsd_train_images6)\n",
        "\n",
        "regr_l = LinearRegression()\n",
        "\n",
        "regr_l.fit(features, subj01_train_lh)\n",
        "regr_l.fit(features6, subj06_train_lh)\n",
        "\n",
        "'''\n",
        "reg_lh = LinearRegression().fit(features, subj01_train_lh)\n",
        "reg_rh = LinearRegression().fit(features, subj01_train_rh)\n",
        "#reg_rh = LinearRegression().fit(features_train, rh_fmri_train)\n",
        "reg_lh = LinearRegression().fit(features6, subj06_train_lh)\n",
        "reg_rh = LinearRegression().fit(features6, subj06_train_rh)\n",
        "'''\n",
        "\n",
        "'''\n",
        "out_input = output_to_input(cnn_model, 2, x_test_cifar)\n",
        "\n",
        "regression_model = tf.keras.Sequential([\n",
        "    tf.keras.layers.Dense(1, activation='linear', input_shape=(hidden_layer_outputs_flat.shape[1],))\n",
        "])\n",
        "regression_model.compile(loss='mse', optimizer='adam')\n",
        "regression_model.fit(out_input, y_test_cifar, epochs=10)\n",
        "\n",
        "'''"
      ],
      "metadata": {
        "colab": {
          "base_uri": "https://localhost:8080/",
          "height": 105
        },
        "id": "me2otOFunZ8r",
        "outputId": "aeb7184e-fa47-4360-a6d0-7997f4533b68"
      },
      "execution_count": 12,
      "outputs": [
        {
          "output_type": "stream",
          "name": "stdout",
          "text": [
            "(9841, 1024)\n",
            "<class 'tensorflow.python.framework.ops.EagerTensor'>\n"
          ]
        },
        {
          "output_type": "execute_result",
          "data": {
            "text/plain": [
              "\"\\nout_input = output_to_input(cnn_model, 2, x_test_cifar)\\n\\nregression_model = tf.keras.Sequential([\\n    tf.keras.layers.Dense(1, activation='linear', input_shape=(hidden_layer_outputs_flat.shape[1],))\\n])\\nregression_model.compile(loss='mse', optimizer='adam')\\nregression_model.fit(out_input, y_test_cifar, epochs=10)\\n\\n\""
            ],
            "application/vnd.google.colaboratory.intrinsic+json": {
              "type": "string"
            }
          },
          "metadata": {},
          "execution_count": 12
        }
      ]
    },
    {
      "cell_type": "code",
      "execution_count": null,
      "metadata": {
        "id": "H5sJA4-DOVMd"
      },
      "outputs": [],
      "source": [
        "# Fit linear regressions on the training data\n",
        "reg_lh = LinearRegression().fit(features_train, lh_fmri_train)\n",
        "\n",
        "reg_rh = LinearRegression().fit(features_train, rh_fmri_train)\n",
        "# Use fitted linear regressions to predict the validation and test fMRI data\n",
        "lh_fmri_val_pred = reg_lh.predict(features_val)\n",
        "lh_fmri_test_pred = reg_lh.predict(features_test)\n",
        "\n",
        "rh_fmri_val_pred = reg_rh.predict(features_val)\n",
        "rh_fmri_test_pred = reg_rh.predict(features_test)"
      ]
    },
    {
      "cell_type": "code",
      "execution_count": null,
      "metadata": {
        "id": "gwTG_w_fOVBM"
      },
      "outputs": [],
      "source": [
        "rand_seed = 5 #@param\n",
        "np.random.seed(rand_seed)\n",
        "\n",
        "# Calculate how many stimulus images correspond to 90% of the training data\n",
        "num_train = int(np.round(len(train_img_list) / 100 * 90))\n",
        "# Shuffle all training stimulus images\n",
        "idxs = np.arange(len(train_img_list))\n",
        "np.random.shuffle(idxs)\n",
        "# Assign 90% of the shuffled stimulus images to the training partition,\n",
        "# and 10% to the test partition\n",
        "idxs_train, idxs_val = idxs[:num_train], idxs[num_train:]\n",
        "# No need to shuffle or split the test stimulus images\n",
        "idxs_test = np.arange(len(test_img_list))\n",
        "\n",
        "print('Training stimulus images: ' + format(len(idxs_train)))\n",
        "print('\\nValidation stimulus images: ' + format(len(idxs_val)))\n",
        "print('\\nTest stimulus images: ' + format(len(idxs_test)))"
      ]
    },
    {
      "cell_type": "code",
      "execution_count": null,
      "metadata": {
        "id": "oplk-jP3OWdP"
      },
      "outputs": [],
      "source": [
        "#Here we will use the previously defined indices to split the training fMRI data into a training and validation partition.\n",
        "lh_fmri_train = lh_fmri[idxs_train]\n",
        "lh_fmri_val = lh_fmri[idxs_val]\n",
        "rh_fmri_train = rh_fmri[idxs_train]\n",
        "rh_fmri_val = rh_fmri[idxs_val]"
      ]
    },
    {
      "cell_type": "code",
      "execution_count": null,
      "metadata": {
        "id": "klkJM8ywOVGP"
      },
      "outputs": [],
      "source": [
        "features_train = extract_features(feature_extractor, train_imgs_dataloader, pca)\n",
        "features_val = extract_features(feature_extractor, val_imgs_dataloader, pca)\n",
        "features_test = extract_features(feature_extractor, test_imgs_dataloader, pca)\n",
        "\n",
        "print('\\nTraining images features:')\n",
        "print(features_train.shape)\n",
        "print('(Training stimulus images × PCA features)')\n",
        "\n",
        "print('\\nValidation images features:')\n",
        "print(features_val.shape)\n",
        "print('(Validation stimulus images × PCA features)')\n",
        "\n",
        "print('\\nTest images features:')\n",
        "print(features_val.shape)\n",
        "print('(Test stimulus images × PCA features)')"
      ]
    }
  ],
  "metadata": {
    "colab": {
      "provenance": []
    },
    "kernelspec": {
      "display_name": "Python 3",
      "name": "python3"
    },
    "language_info": {
      "name": "python"
    }
  },
  "nbformat": 4,
  "nbformat_minor": 0
}