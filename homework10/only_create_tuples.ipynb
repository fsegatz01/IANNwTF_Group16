{
  "nbformat": 4,
  "nbformat_minor": 0,
  "metadata": {
    "colab": {
      "provenance": []
    },
    "kernelspec": {
      "name": "python3",
      "display_name": "Python 3"
    },
    "language_info": {
      "name": "python"
    },
    "accelerator": "GPU",
    "gpuClass": "standard"
  },
  "cells": [
    {
      "cell_type": "code",
      "source": [
        "# CREATE THE TUPLES \n",
        "\n",
        "copy= text_in_numbers\n",
        "\n",
        "'''\n",
        "# for checking purpose shorter list \n",
        "text_in_numbers = [0, 1, 2, 3, 4]\n",
        "'''\n",
        "\n",
        "word_pairs = list()\n",
        "\n",
        "window_size = 4\n",
        "\n",
        "# go through text\n",
        "for i in range(len(text_in_numbers)):\n",
        "\n",
        "  # depending on window size only create tuples with elements in the list (only if j>=0 and j<len(text))\n",
        "  for j in range(1,int(window_size/2 +1)): # only works for even numbers as window_size\n",
        "    if i-j>=0:\n",
        "      word_pairs.append((np.int64(text_in_numbers[i]), np.int64(text_in_numbers[i-j])))\n",
        "    if i+j<len(text_in_numbers):\n",
        "      word_pairs.append((np.int64(text_in_numbers[i]), np.int64(text_in_numbers[i+j])))\n",
        "\n",
        "\n",
        "# convert tuples to a tf dataset\n",
        "data = tf.data.Dataset.from_tensor_slices(word_pairs)\n",
        "\n",
        "'''\n",
        "# look at tensors to check\n",
        "for elem in data:\n",
        "  print(elem.numpy())\n",
        "'''\n",
        "\n",
        "# shuffle, batch and prefetch (do we need prefetch?)\n",
        "data = data.shuffle(10000).batch(64).prefetch(tf.data.AUTOTUNE)\n"
      ],
      "metadata": {
        "id": "eiwgGUDXRx6G"
      },
      "execution_count": null,
      "outputs": []
    }
  ]
}